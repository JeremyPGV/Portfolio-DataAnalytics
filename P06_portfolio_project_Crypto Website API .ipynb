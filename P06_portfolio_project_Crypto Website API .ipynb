{
 "cells": [
  {
   "cell_type": "markdown",
   "id": "2315e93b",
   "metadata": {},
   "source": [
    "*** Read me ***\n",
    "\n",
    "Sources du projet :\n",
    "    * Coin market cap API : https://coinmarketcap.com/api/\n",
    "    * Coin market cap API doc : https://coinmarketcap.com/api/documentation/v1/#section/Quick-Start-Guide\n",
    "\n",
    "Objectif du projet :\n",
    "    * Automate API Extraction\n",
    "    * Appending Data + Extra"
   ]
  },
  {
   "cell_type": "code",
   "execution_count": 9,
   "id": "84f3b6ba",
   "metadata": {},
   "outputs": [],
   "source": [
    "from requests import Request, Session\n",
    "from requests.exceptions import ConnectionError, Timeout, TooManyRedirects\n",
    "import json\n",
    "\n",
    "url = 'https://pro-api.coinmarketcap.com/v1/cryptocurrency/listings/latest' \n",
    "#Original Sandbox Environment: 'https://sandbox-api.coinmarketcap.com/v1/cryptocurrency/listings/latest'\n",
    "parameters = {\n",
    "  'start':'1',\n",
    "  'limit':'15',\n",
    "  'convert':'USD'\n",
    "}\n",
    "headers = {\n",
    "  'Accepts': 'application/json',\n",
    "  'X-CMC_PRO_API_KEY': '0ad53085-1cb2-4eb8-ad9e-3ffbd7e56509',\n",
    "}\n",
    "\n",
    "session = Session()\n",
    "session.headers.update(headers)\n",
    "\n",
    "try:\n",
    "  response = session.get(url, params=parameters)\n",
    "  data = json.loads(response.text)\n",
    "  #print(data) on ne print pas les datas car probleme de capacité du PC\n",
    "except (ConnectionError, Timeout, TooManyRedirects) as e:\n",
    "  print(e)"
   ]
  },
  {
   "cell_type": "code",
   "execution_count": null,
   "id": "f9bc4294",
   "metadata": {},
   "outputs": [],
   "source": [
    "type (data)"
   ]
  },
  {
   "cell_type": "code",
   "execution_count": 21,
   "id": "bcc10645",
   "metadata": {},
   "outputs": [],
   "source": [
    "import pandas as pd\n",
    "\n",
    "#pour voir le maximum de colonnes possibles\n",
    "pd.set_option('display.max_columns',None)\n",
    "\n",
    "#pour voir le maximum de lignes possibles\n",
    "pd.set_option('display.max_rows', None)"
   ]
  },
  {
   "cell_type": "code",
   "execution_count": null,
   "id": "aa94eddc",
   "metadata": {},
   "outputs": [],
   "source": [
    "#pour rendre les données plus lisibles\n",
    "\n",
    "df = pd.json_normalize(data['data'])\n",
    "df['timestamp'] = pd.to_datetime('now')\n",
    "df"
   ]
  },
  {
   "cell_type": "code",
   "execution_count": 31,
   "id": "8130bdee",
   "metadata": {},
   "outputs": [],
   "source": [
    "#Automatisation de la mise à jour des prix pour les 15eres cryptomonnaies selon \"coin market cap\"\n",
    "\n",
    "def api_runner():\n",
    "\n",
    "    global df\n",
    "    url = 'https://pro-api.coinmarketcap.com/v1/cryptocurrency/listings/latest' \n",
    "    #Original Sandbox Environment: 'https://sandbox-api.coinmarketcap.com/v1/cryptocurrency/listings/latest'\n",
    "    parameters = {\n",
    "      'start':'1',\n",
    "      'limit':'15',\n",
    "      'convert':'USD'\n",
    "    }\n",
    "    headers = {\n",
    "      'Accepts': 'application/json',\n",
    "      'X-CMC_PRO_API_KEY': '0ad53085-1cb2-4eb8-ad9e-3ffbd7e56509',\n",
    "    }\n",
    "\n",
    "    session = Session()\n",
    "    session.headers.update(headers)\n",
    "\n",
    "    try:\n",
    "      response = session.get(url, params=parameters)\n",
    "      data = json.loads(response.text)\n",
    "      #print(data) on ne print pas les datas car probleme de capacité du PC\n",
    "    except (ConnectionError, Timeout, TooManyRedirects) as e:\n",
    "      print(e)\n",
    "    \n",
    "    df = pd.json_normalize(data['data'])\n",
    "    df['timestamp'] = pd.to_datetime('now')\n",
    "    df\n",
    "    \n",
    "#Création d'un fichier CSV\n",
    "    \n",
    "    #on verifie l'existence d'un fichier \n",
    "    if not os.path.isfile(r'C:\\Users\\jerem\\Desktop\\Data analyse\\Data analyse Bootcamp Project 6_Python\\API.csv') :\n",
    "        #Si le fichier n'existe pas alors on va écrire comme indiqué ci-dessous avec le nom des colones \n",
    "        df.to_csv(r'C:\\Users\\jerem\\Desktop\\Data analyse\\Data analyse Bootcamp Project 6_Python\\API.csv',header='column_names')\n",
    "    \n",
    "    \n",
    "    else : #si le fichier existe alors on fait un append à ce qui existe déjà\n",
    "        df.to_csv(r'C:\\Users\\jerem\\Desktop\\Data analyse\\Data analyse Bootcamp Project 6_Python\\API.csv',mode ='a', header=FALSE)"
   ]
  },
  {
   "cell_type": "code",
   "execution_count": null,
   "id": "8fb3ac27",
   "metadata": {},
   "outputs": [],
   "source": [
    "import os\n",
    "\n",
    "from time import time\n",
    "from time import sleep\n",
    "\n",
    "for i in range(333) : #sur coinmarcket cap API on ne peut dépasser 333 exécutions par jour\n",
    "    api_runner()\n",
    "    print ('API Runner a terminé sa tache')\n",
    "    sleep(60)\n",
    "exit()"
   ]
  },
  {
   "cell_type": "code",
   "execution_count": null,
   "id": "7afb64e9",
   "metadata": {},
   "outputs": [],
   "source": [
    "df72=pd.read_csv(r'C:\\Users\\jerem\\Desktop\\Data analyse\\Data analyse Bootcamp Project 6_Python\\API.csv')\n",
    "df72"
   ]
  },
  {
   "cell_type": "code",
   "execution_count": null,
   "id": "270ef09d",
   "metadata": {},
   "outputs": [],
   "source": [
    "df #affichage du dataframe"
   ]
  },
  {
   "cell_type": "code",
   "execution_count": null,
   "id": "d24933e8",
   "metadata": {},
   "outputs": [],
   "source": [
    "#DATA CLEANING \n",
    "#On passe de l'ecriture scientique à l'eciture classique où tous les chiffres sont visibles\n",
    "\n",
    "pd.set_option('display.floar_format',lambda x : '%.5f' % x)"
   ]
  },
  {
   "cell_type": "code",
   "execution_count": null,
   "id": "02b85c06",
   "metadata": {},
   "outputs": [],
   "source": [
    "#Tri des données en fonction du nom pour pouvoir voir leur évolution dans le temps\n",
    "\n",
    "df3 = df.groupby('name', sort=False)[['quote.USD.percent_change_1h','quote.USD.percent_change_24h','quote.USD.percent_change_7d','quote.USD.percent_change_30d','quote.USD.percent_change_60d','quote.USD.percent_change_90d']].mean()\n",
    "df3"
   ]
  },
  {
   "cell_type": "code",
   "execution_count": null,
   "id": "3e04e940",
   "metadata": {},
   "outputs": [],
   "source": [
    "df4 = df3.stack()\n",
    "df4"
   ]
  },
  {
   "cell_type": "code",
   "execution_count": null,
   "id": "8b8259cf",
   "metadata": {},
   "outputs": [],
   "source": [
    "type(df4)"
   ]
  },
  {
   "cell_type": "code",
   "execution_count": null,
   "id": "4a03f646",
   "metadata": {},
   "outputs": [],
   "source": [
    "df5 = df4.to_frame(name='values')\n",
    "df5"
   ]
  },
  {
   "cell_type": "code",
   "execution_count": null,
   "id": "41f9b6c3",
   "metadata": {},
   "outputs": [],
   "source": [
    "df5.count()"
   ]
  },
  {
   "cell_type": "code",
   "execution_count": null,
   "id": "c9bf78f5",
   "metadata": {},
   "outputs": [],
   "source": [
    "#En raison de la structure nous avons besoin d'un index\n",
    "#creation d'un range et transformer la \"serie\" en \"dataframe\"\n",
    "\n",
    "\n",
    "index = pd.Index(range(90))\n",
    "\n",
    "# Utilisation de la fonction set_index() pour indexé de la bonne manière\n",
    "df6 = df5.set_index(index)\n",
    "df6\n",
    "\n",
    "# Si le dataframe a l'incide et la valeur il faut utiliser \"df5.reset_index()\""
   ]
  },
  {
   "cell_type": "code",
   "execution_count": null,
   "id": "78dcf7d9",
   "metadata": {},
   "outputs": [],
   "source": [
    "# Changement du nom des colones\n",
    "\n",
    "df7 = df6.rename(columns={'level_1': 'percent_change'})\n",
    "df7"
   ]
  },
  {
   "cell_type": "code",
   "execution_count": null,
   "id": "4c78b65c",
   "metadata": {},
   "outputs": [],
   "source": [
    "#Dans le but de rendre le visuel plus lisible on change le nom des abscisses\n",
    "\n",
    "df7['percent_change'] = df7['percent_change'].replace(['quote.USD.percent_change_24h','quote.USD.percent_change_7d','quote.USD.percent_change_30d','quote.USD.percent_change_60d','quote.USD.percent_change_90d'],['24h','7d','30d','60d','90d'])\n",
    "df7"
   ]
  },
  {
   "cell_type": "code",
   "execution_count": null,
   "id": "e4735f0c",
   "metadata": {},
   "outputs": [],
   "source": [
    "import seaborn as sns\n",
    "import matplotlib.pyplot as plt"
   ]
  },
  {
   "cell_type": "code",
   "execution_count": null,
   "id": "34860065",
   "metadata": {},
   "outputs": [],
   "source": [
    "sns.catplot(x='percent_change', y='values', hue='name', data=df7, kind='point')"
   ]
  },
  {
   "cell_type": "code",
   "execution_count": null,
   "id": "7326b4fb",
   "metadata": {},
   "outputs": [],
   "source": [
    "# Simplification du visuel avec un dataframe avec la colonne de notre choix et on tri avec \"bitcoin\"\n",
    "\n",
    "df10 = df[['name','quote.USD.price','timestamp']]\n",
    "df10 = df10.query(\"name == 'Bitcoin'\")\n",
    "df10"
   ]
  },
  {
   "cell_type": "code",
   "execution_count": null,
   "id": "a9cb8f27",
   "metadata": {},
   "outputs": [],
   "source": [
    "sns.set_theme(style=\"darkgrid\")\n",
    "\n",
    "sns.lineplot(x='timestamp', y='quote.USD.price', data = df10)"
   ]
  }
 ],
 "metadata": {
  "kernelspec": {
   "display_name": "Python 3 (ipykernel)",
   "language": "python",
   "name": "python3"
  },
  "language_info": {
   "codemirror_mode": {
    "name": "ipython",
    "version": 3
   },
   "file_extension": ".py",
   "mimetype": "text/x-python",
   "name": "python",
   "nbconvert_exporter": "python",
   "pygments_lexer": "ipython3",
   "version": "3.10.9"
  }
 },
 "nbformat": 4,
 "nbformat_minor": 5
}
