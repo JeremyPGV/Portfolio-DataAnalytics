{
 "cells": [
  {
   "cell_type": "markdown",
   "id": "3837dadd",
   "metadata": {},
   "source": [
    "*** Read me ***\n",
    "\n",
    "Objectifs du projet :\n",
    "    \n",
    "    * Récupération de donées d'un produit grâce à son URL et les éléments HTML\n",
    "    * Intégration des données dans un fichier CSV\n",
    "    * Lecture du fichier CSV\n",
    "    * Automatisation des processus de vérification du prix de l'article et de la mise à jour du fichier CSV concerné\n",
    "    * Envoi d'un mail si une condition de prix est satisfaite (ici sous les 20 USD)\n",
    "    "
   ]
  },
  {
   "cell_type": "code",
   "execution_count": 44,
   "id": "9ee35cee",
   "metadata": {},
   "outputs": [],
   "source": [
    "#import des bibliothèques\n",
    "\n",
    "from bs4 import BeautifulSoup\n",
    "import requests\n",
    "import smtplib #permet l'envoi de mail\n",
    "import time\n",
    "import datetime\n",
    "import pandas as pd"
   ]
  },
  {
   "cell_type": "code",
   "execution_count": 30,
   "id": "d6a60ed9",
   "metadata": {},
   "outputs": [
    {
     "name": "stdout",
     "output_type": "stream",
     "text": [
      "\n",
      "                   TSHIRTAMAZING Data Science T Shirt Programmer Analyst Statistic Scientist Black\n",
      "                  \n",
      "\n",
      "                  $23.95\n",
      "                 \n"
     ]
    }
   ],
   "source": [
    "#Connexion au site web via URL\n",
    "\n",
    "URL ='https://www.amazon.com/TSHIRTAMAZING-Science-Programmer-Statistic-Scientist/dp/B08KGBYZQR/ref=sr_1_15?crid=GVBWT9FV48L6&keywords=data+analyst+t+shirt&qid=1682947073&sprefix=data+analyst+tshrit%2Caps%2C204&sr=8-15'\n",
    "\n",
    "\n",
    "headers = {\"User-Agent\": \"Mozilla/5.0 (Windows NT 10.0; Win64; x64) AppleWebKit/537.36 (KHTML, like Gecko) Chrome/112.0.0.0 Safari/537.36\", \n",
    "    \"X-Amzn-Trace-Id\": \"Root=1-644fbd2a-2e886cd6125c8a8e5342139e\"} #obtenu avec https://httpbin.org/get\n",
    "\n",
    "Page = requests.get(URL, headers=headers,cookies={'__hs_opt_out': 'no'}) #si les cookies sont off il faut ajouter le paramètre concerné\n",
    "\n",
    "Soup1=BeautifulSoup(Page.content, \"html.parser\") #permet de recupérer le contenu de la page html\n",
    "Soup2=BeautifulSoup(Soup1.prettify(), \"html.parser\") #met en forme le contenu de la page html récupérée\n",
    "\n",
    "title = Soup2.find(id='productTitle').get_text()\n",
    "price = Soup2.find('span', {'class':\"a-offscreen\"}).get_text()\n",
    "\n",
    "# option possible :\n",
    "#price = Soup2.find(id='corePrice_feature_div').get_text()\n",
    "\n",
    "\n",
    "print (title)\n",
    "print(price)\n",
    "\n",
    "\n"
   ]
  },
  {
   "cell_type": "code",
   "execution_count": 32,
   "id": "87fadecc",
   "metadata": {},
   "outputs": [
    {
     "name": "stdout",
     "output_type": "stream",
     "text": [
      "TSHIRTAMAZING Data Science T Shirt Programmer Analyst Statistic Scientist Black\n",
      "23.95\n"
     ]
    }
   ],
   "source": [
    "#On retire les espaces vus dans les prints précédents\n",
    "\n",
    "price=price.strip()[1:] #[] pour enlever le signe $\n",
    "title=title.strip()\n",
    "\n",
    "print (title)\n",
    "print(price)"
   ]
  },
  {
   "cell_type": "code",
   "execution_count": null,
   "id": "4bf15f1e",
   "metadata": {},
   "outputs": [],
   "source": [
    "#On récupère la date du jour\n",
    "\n",
    "today=datetime.date.today()\n",
    "print(today)\n"
   ]
  },
  {
   "cell_type": "code",
   "execution_count": 47,
   "id": "427985ad",
   "metadata": {},
   "outputs": [],
   "source": [
    "import csv\n",
    "\n",
    "header = ['Title','Price','Date']\n",
    "data = [title,price,today]\n",
    "\n",
    "with open('AmazonWebScraperDataset.csv','w', newline='', encoding='UTF8') as f:#w=write\n",
    "    writer=csv.writer(f)\n",
    "    writer.writerow(header)\n",
    "    writer.writerow(data)\n"
   ]
  },
  {
   "cell_type": "code",
   "execution_count": 54,
   "id": "a42b3358",
   "metadata": {},
   "outputs": [
    {
     "name": "stdout",
     "output_type": "stream",
     "text": [
      "                                               Title  Price        Date\n",
      "0  TSHIRTAMAZING Data Science T Shirt Programmer ...  23.95  2023-05-01\n",
      "1  TSHIRTAMAZING Data Science T Shirt Programmer ...  23.95  2023-05-01\n",
      "2  TSHIRTAMAZING Data Science T Shirt Programmer ...  23.95  2023-05-01\n",
      "3  TSHIRTAMAZING Data Science T Shirt Programmer ...  23.95  2023-05-01\n",
      "4  TSHIRTAMAZING Data Science T Shirt Programmer ...  23.95  2023-05-01\n",
      "5  TSHIRTAMAZING Data Science T Shirt Programmer ...  23.95  2023-05-01\n"
     ]
    }
   ],
   "source": [
    "#affichage du fichier CSV avec panda\n",
    "\n",
    "df =pd.read_csv(r'C:\\Users\\jerem\\AmazonWebScraperDataset.csv')\n",
    "print(df)"
   ]
  },
  {
   "cell_type": "code",
   "execution_count": 53,
   "id": "3cf1ebb4",
   "metadata": {},
   "outputs": [],
   "source": [
    "#Ajout d'un \"Append\" au fichier CSV\n",
    "\n",
    "with open('AmazonWebScraperDataset.csv','a+', newline='', encoding='UTF8') as f: #a+=append\n",
    "    writer=csv.writer(f)\n",
    "    writer.writerow(data)"
   ]
  },
  {
   "cell_type": "code",
   "execution_count": 58,
   "id": "8501b6e1",
   "metadata": {},
   "outputs": [],
   "source": [
    "#Création d'un process qui va vérifier le prix du produit quotidiennement\n",
    "\n",
    "def check_price():\n",
    "    \n",
    "    URL ='https://www.amazon.com/TSHIRTAMAZING-Science-Programmer-Statistic-Scientist/dp/B08KGBYZQR/ref=sr_1_15?crid=GVBWT9FV48L6&keywords=data+analyst+t+shirt&qid=1682947073&sprefix=data+analyst+tshrit%2Caps%2C204&sr=8-15'\n",
    "\n",
    "\n",
    "    headers = {\"User-Agent\": \"Mozilla/5.0 (Windows NT 10.0; Win64; x64) AppleWebKit/537.36 (KHTML, like Gecko) Chrome/112.0.0.0 Safari/537.36\", \n",
    "    \"X-Amzn-Trace-Id\": \"Root=1-644fbd2a-2e886cd6125c8a8e5342139e\"} #obtenu avec https://httpbin.org/get\n",
    "\n",
    "    Page = requests.get(URL, headers=headers,cookies={'__hs_opt_out': 'no'}) #si les cookies sont off il faut ajouter le paramètre concerné\n",
    "    \n",
    "    Soup1=BeautifulSoup(Page.content, \"html.parser\") #permet de recupérer le contenu de la page html\n",
    "    Soup2=BeautifulSoup(Soup1.prettify(), \"html.parser\") #met en forme le contenu de la page html récupérée\n",
    "\n",
    "    title = Soup2.find(id='productTitle').get_text()\n",
    "    price = Soup2.find('span', {'class':\"a-offscreen\"}).get_text()\n",
    "    \n",
    "    price=price.strip()[1:] #[] pour enlever le signe $\n",
    "    title=title.strip()\n",
    "    \n",
    "    import datetime\n",
    "    today=datetime.date.today()\n",
    "    \n",
    "    import csv\n",
    "\n",
    "    header = ['Title','Price','Date']\n",
    "    data = [title,price,today]\n",
    "\n",
    "    with open('AmazonWebScraperDataset.csv','a+', newline='', encoding='UTF8') as f:\n",
    "        writer=csv.writer(f)\n",
    "        writer.writerow(data)\n",
    "    if (price<20):\n",
    "        send_mail()\n",
    "    "
   ]
  },
  {
   "cell_type": "code",
   "execution_count": null,
   "id": "f903530a",
   "metadata": {},
   "outputs": [],
   "source": [
    "#Automatisation de la vérification (un check toutes les 5 secondes)\n",
    "while(True):\n",
    "    check_price()\n",
    "    time.sleep(5) #5 secondes"
   ]
  },
  {
   "cell_type": "code",
   "execution_count": 60,
   "id": "9c86e2e3",
   "metadata": {},
   "outputs": [
    {
     "name": "stdout",
     "output_type": "stream",
     "text": [
      "                                                Title  Price        Date\n",
      "0   TSHIRTAMAZING Data Science T Shirt Programmer ...  23.95  2023-05-01\n",
      "1   TSHIRTAMAZING Data Science T Shirt Programmer ...  23.95  2023-05-01\n",
      "2   TSHIRTAMAZING Data Science T Shirt Programmer ...  23.95  2023-05-01\n",
      "3   TSHIRTAMAZING Data Science T Shirt Programmer ...  23.95  2023-05-01\n",
      "4   TSHIRTAMAZING Data Science T Shirt Programmer ...  23.95  2023-05-01\n",
      "5   TSHIRTAMAZING Data Science T Shirt Programmer ...  23.95  2023-05-01\n",
      "6   TSHIRTAMAZING Data Science T Shirt Programmer ...  23.95  2023-05-01\n",
      "7   TSHIRTAMAZING Data Science T Shirt Programmer ...  23.95  2023-05-01\n",
      "8   TSHIRTAMAZING Data Science T Shirt Programmer ...  23.95  2023-05-01\n",
      "9   TSHIRTAMAZING Data Science T Shirt Programmer ...  23.95  2023-05-01\n",
      "10  TSHIRTAMAZING Data Science T Shirt Programmer ...  23.95  2023-05-01\n",
      "11  TSHIRTAMAZING Data Science T Shirt Programmer ...  23.95  2023-05-01\n",
      "12  TSHIRTAMAZING Data Science T Shirt Programmer ...  23.95  2023-05-01\n"
     ]
    }
   ],
   "source": [
    "#affichage du fichier CSV avec panda\n",
    "\n",
    "df =pd.read_csv(r'C:\\Users\\jerem\\AmazonWebScraperDataset.csv')\n",
    "print(df)"
   ]
  },
  {
   "cell_type": "code",
   "execution_count": null,
   "id": "8b05ab1b",
   "metadata": {},
   "outputs": [],
   "source": [
    "#Création d'un process qui va envoyer un mail dès que la condition IF<20$ est satisfaite\n",
    "\n",
    "def send_mail():\n",
    "    server=smtplib.SMTP_SSL('smtp.gmail.com',465)\n",
    "    server.ehlo()\n",
    "    server.login('jv.data.analyst@gmail.com,'PASSWORD')\n",
    "    \n",
    "    subject = \"Le t-shirt mis désiré est en dessous des 20$ !\"\n",
    "    body = \"Le t-shirt xxx est désormais à un prix abordable, ne laissez pas passer votre chance\"\n",
    "    msg = f\"Subject:{subject\\n\\n{body}}\n",
    "    server.sendmail('jv.data.analyst@gmail.com',msg)"
   ]
  }
 ],
 "metadata": {
  "kernelspec": {
   "display_name": "Python 3 (ipykernel)",
   "language": "python",
   "name": "python3"
  },
  "language_info": {
   "codemirror_mode": {
    "name": "ipython",
    "version": 3
   },
   "file_extension": ".py",
   "mimetype": "text/x-python",
   "name": "python",
   "nbconvert_exporter": "python",
   "pygments_lexer": "ipython3",
   "version": "3.10.9"
  }
 },
 "nbformat": 4,
 "nbformat_minor": 5
}
